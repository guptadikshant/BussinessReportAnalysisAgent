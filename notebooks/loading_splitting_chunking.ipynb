{
 "cells": [
  {
   "cell_type": "code",
   "execution_count": 1,
   "metadata": {},
   "outputs": [],
   "source": [
    "from langchain_community.document_loaders import UnstructuredPDFLoader\n",
    "from langchain.document_loaders import PyMuPDFLoader\n",
    "from unstructured.partition.pdf import partition_pdf\n",
    "from pprint import pprint"
   ]
  },
  {
   "cell_type": "code",
   "execution_count": 2,
   "metadata": {},
   "outputs": [
    {
     "data": {
      "text/plain": [
       "True"
      ]
     },
     "execution_count": 2,
     "metadata": {},
     "output_type": "execute_result"
    }
   ],
   "source": [
    "from dotenv import load_dotenv, find_dotenv\n",
    "load_dotenv(find_dotenv())"
   ]
  },
  {
   "cell_type": "code",
   "execution_count": 22,
   "metadata": {},
   "outputs": [],
   "source": [
    "# file_path = r\"F:\\PlayGround\\GEN_AI\\BussinessReportAnalysisAgent\\BusinessReports\\AT&T_2023.pdf\"\n",
    "\n",
    "file_path = r\"F:\\PlayGround\\GEN_AI\\BussinessReportAnalysisAgent\\BusinessReports\\bce_2023.pdf\""
   ]
  },
  {
   "cell_type": "code",
   "execution_count": 23,
   "metadata": {},
   "outputs": [],
   "source": [
    "loader = PyMuPDFLoader(file_path)\n",
    "pymupdf_documents = loader.load()"
   ]
  },
  {
   "cell_type": "code",
   "execution_count": 26,
   "metadata": {
    "scrolled": true
   },
   "outputs": [
    {
     "name": "stdout",
     "output_type": "stream",
     "text": [
      "aBout tHIS rEport\n",
      "About this report \n",
      "GRI 2-1, 2-2 \n",
      "This is our second Integrated annual report (referred to as “the report” or “this report”). In this report, “we”, “us”, “our”, “BCE” and “the \n",
      "company” mean, as the context may require, either BCE Inc. or, collectively, BCE Inc., Bell Canada, their subsidiaries, joint arrangements and \n",
      "associates. “Bell” means, as the context may require, either Bell Canada or, collectively, Bell Canada, its subsidiaries, joint arrangements \n",
      "and associates. \n",
      "GRI 2-3 \n",
      "Our approach to integrated reporting \n",
      "Since 1993, BCE has been publishing a Corporate Responsibility Report \n",
      "detailing our performance in managing environmental, social and \n",
      "governance (ESG) issues. In 2022, for the first time, we presented \n",
      "both our financial and non-financial performance in an Integrated \n",
      "annual report following the principles of the International Reporting \n",
      "Framework (the <IR> Framework), now part of the International \n",
      "Reporting structure and reporting period \n",
      "This report includes the Strategic overview, the 2023 annual \n",
      "Management’s discussion and analysis (BCE 2023 Annual MD&A) \n",
      "and the audited consolidated financial statements for the year ended \n",
      "December 31, 2023 (BCE 2023 Annual financial statements) of BCE Inc. \n",
      "All amounts in this report are in millions of Canadian dollars, except \n",
      "where noted. This report is dated March 7, 2024. \n",
      "— The Strategic overview on pages 6 to 68 of this Integrated annual \n",
      "report provides a summary of BCE’s value creation model. This \n",
      "includes the strategy and performance highlights for the period \n",
      "from January 1 to December 31, 2023, as at December 31, 2023. \n",
      "There are topics with exceptions to this calendar-year timeframe. \n",
      "Energy consumption, greenhouse gas (GHG) emissions and supplier \n",
      "engagement performance are based on data from July 1 of the \n",
      "previous year to June 30 of the reporting year. Energy savings \n",
      "(including electric, hybrid and more fuel-efficient vehicles) and \n",
      "circular economy performance are based on data from October 1 \n",
      "of the previous year to September 30 of the reporting year. \n",
      "The Commission for Complaints for Telecom-television Services \n",
      "(CCTS) report is from August 1, 2022 to July 31, 2023. The Key \n",
      "Performance Indicator (KPI) for employee engagement is based \n",
      "on results from the Bell Team Survey which ran from September 11 \n",
      "to 26, 2023. \n",
      "— The Strategic overview has been prepared based on the principles \n",
      "set out in the <IR> Framework. We believe this approach provides a \n",
      "useful basis for disclosing how we seek to create sustained value \n",
      "for our stakeholders over time. Integral to the <IR> Framework \n",
      "are the six forms of “capital” (Our networks, Our customers and \n",
      "relationships, Our products and services, Our environment, \n",
      "Our people and Our financial resources) that serve as inputs to \n",
      "value creation. BCE introduces its capitals within our value creation \n",
      "model (page 25) and references them using icons throughout the \n",
      "Strategic overview and the BCE 2023 Annual MD&A to demonstrate \n",
      "how each capital links to our strategy, value creation and risk \n",
      "management. \n",
      "Reporting Standards (IFRS) Foundation. With this, we became the \n",
      "first major North American communications company to issue \n",
      "an integrated report(1)\n",
      "(1)  As of March 2, 2023, Bell’s review of publicly available information for North American communications and telecommunications companies indicated Bell was the first of its North American \n",
      "communications and telecommunications competitors to publish an Integrated annual report based on the Integrated Reporting <IR> Framework. \n",
      ". For more information on our corporate \n",
      "responsibility performance, visit bce.ca/responsibility or contact \n",
      "us at esg@bell.ca. \n",
      "GRI 2-3 \n",
      "— Pages 72 to 169 of this Integrated annual report present the BCE \n",
      "2023 Annual MD&A, which comments on our business operations, \n",
      "performance, financial position and other matters for the years \n",
      "ended December 31, 2023 and December 31, 2022. \n",
      "— Pages 172 to 221 of this Integrated annual report present \n",
      "the BCE 2023 Annual financial statements comprised of the \n",
      "consolidated statements of the financial positions of BCE Inc. \n",
      "and its subsidiaries as at December 31, 2023 and December 31, \n",
      "2022, the related consolidated income statements, statements of \n",
      "comprehensive income, changes in financial position, equity, cash \n",
      "flows and the related notes. \n",
      "Reporting criteria \n",
      "The sustainability information included in this Integrated annual report \n",
      "has been prepared in accordance with the Global Reporting Initiative \n",
      "(GRI) Standards. These standards guide the identification of pertinent \n",
      "issues and their impact on both enterprise value, and on society and \n",
      "the environment. We also support the Task Force on Climate-related \n",
      "Financial Disclosures’ (TCFD) recommendations, which are designed \n",
      "to help companies provide better information to support informed \n",
      "capital allocation. We provide a summary of our TCFD disclosures \n",
      "on pages 63 to 65 and we address the 11 TCFD recommendations in \n",
      "our 2023 BCE Climate action report. Furthermore, we measure and \n",
      "report on select Sustainability Accounting Standards Board (SASB) \n",
      "and Sustainable Development Goals (SDGs) metrics. As a signatory \n",
      "to the United Nations Global Compact (UNGC) since 2006, we report \n",
      "our progress in the areas of human rights, labour, environment and \n",
      "anti-corruption. This report describes the actions we have taken to \n",
      "implement the UNGC guidelines and principles, and serves as our \n",
      "Communication on Progress (COP). Bell is developing a roadmap to \n",
      "increase its alignment to the recently promulgated IFRS Sustainability \n",
      "Disclosure Standards in future reports. \n",
      "BCE InC. 2023 IntEgratEd annual rEport \n",
      "2\n"
     ]
    }
   ],
   "source": [
    "print(pymupdf_documents[3].page_content)"
   ]
  },
  {
   "cell_type": "code",
   "execution_count": 57,
   "metadata": {},
   "outputs": [
    {
     "name": "stderr",
     "output_type": "stream",
     "text": [
      "`mode='paged'` is deprecated in favor of the 'by_page' chunking strategy. Learn more about chunking here: https://docs.unstructured.io/open-source/core-functionality/chunking\n"
     ]
    }
   ],
   "source": [
    "pdf_loader = UnstructuredPDFLoader(\n",
    "    file_path,\n",
    "    mode=\"paged\",\n",
    "    strategy=\"hi_res\",\n",
    "    # extract_images_in_pdf=True,\n",
    "    infer_table_structure=True,\n",
    "    extract_image_block_types=[\"Table\"],\n",
    ")\n",
    "unstructured_loaded_documents = pdf_loader.load()"
   ]
  },
  {
   "cell_type": "code",
   "execution_count": 58,
   "metadata": {},
   "outputs": [
    {
     "data": {
      "text/plain": [
       "117"
      ]
     },
     "execution_count": 58,
     "metadata": {},
     "output_type": "execute_result"
    }
   ],
   "source": [
    "len(unstructured_loaded_documents)"
   ]
  },
  {
   "cell_type": "code",
   "execution_count": 59,
   "metadata": {
    "scrolled": true
   },
   "outputs": [
    {
     "name": "stdout",
     "output_type": "stream",
     "text": [
      "UNITED STATES\n",
      "\n",
      "SECURITIES AND EXCHANGE COMMISSION\n",
      "\n",
      "Washington, D.C. 20549\n",
      "\n",
      "FORM 10-K\n",
      "\n",
      "(Mark One)\n",
      "\n",
      "☒\n",
      "\n",
      "ANNUAL REPORT PURSUANT TO SECTION 13 OR 15(d) OF THE SECURITIES EXCHANGE ACT OF 1934\n",
      "\n",
      "For the fiscal year ended December 31, 2023\n",
      "\n",
      "OR\n",
      "\n",
      "☐\n",
      "\n",
      "TRANSITION REPORT PURSUANT TO SECTION 13 OR 15(d)\n",
      "\n",
      "OF THE SECURITIES EXCHANGE ACT OF 1934\n",
      "\n",
      "For the transition period from ______ to\n",
      "\n",
      "Commission File Number: 001-8610\n",
      "\n",
      "AT&T INC.\n",
      "\n",
      "(Exact name of registrant as specified in its charter)\n",
      "\n",
      "Delaware\n",
      "\n",
      "43-1301883\n",
      "\n",
      "(State or other jurisdiction 208 S. Akard St. Dallas, Texas 75202 (Zip Code)\n",
      "\n",
      "(I.R.S. Employer Identification No.)\n",
      "\n",
      "of incorporation or organization)\n",
      "\n",
      "(Address of principal executive office)\n",
      "\n",
      "Registrant’s telephone number, including area code 210-821-4105\n",
      "\n",
      "Securities registered pursuant to Section 12(b) of the Act:\n",
      "\n",
      "Name of each exchange\n",
      "\n",
      "Trading Symbol(s) on which registered T New York Stock Exchange 5.000% Perpetual Preferred Stock, Series A T PRA New York Stock Exchange 4.750% Perpetual Preferred Stock, Series C T PRC New York Stock Exchange T 24A New York Stock Exchange T 25A New York Stock Exchange T 25B New York Stock Exchange T 25 New York Stock Exchange T 26E New York Stock Exchange T 26D New York Stock Exchange T 26A New York Stock Exchange T 28C New York Stock Exchange T 29D New York Stock Exchange T 29B New York Stock Exchange T 29A New York Stock Exchange T 30B New York Stock Exchange T 31F New York Stock Exchange T 32A New York Stock Exchange T 32 New York Stock Exchange\n",
      "\n",
      "Title of each class\n",
      "\n",
      "Common Shares (Par Value $1.00 Per Share)\n",
      "\n",
      "Depositary Shares, each representing a1/1000th i nterest in ashare of\n",
      "\n",
      "Depositary Shares, each representing a1/1000th i nterest in ashare of\n",
      "\n",
      "AT&T Inc. 2.400% Global Notes due March 15, 2024\n",
      "\n",
      "AT&T Inc. Floating Rate Global Notes due March 6, 2025\n",
      "\n",
      "AT&T Inc. 3.550% Global Notes due November 18, 2025\n",
      "\n",
      "AT&T Inc. 3.500% Global Notes due December 17, 2025\n",
      "\n",
      "AT&T Inc. 0.250% Global Notes due March 4, 2026\n",
      "\n",
      "AT&T Inc. 1.800% Global Notes due September 5, 2026\n",
      "\n",
      "AT&T Inc. 2.900% Global Notes due December 4, 2026\n",
      "\n",
      "AT&T Inc. 1.600% Global Notes due May 19, 2028\n",
      "\n",
      "AT&T Inc. 2.350% Global Notes due September 5, 2029\n",
      "\n",
      "AT&T Inc. 4.375% Global Notes due September 14, 2029\n",
      "\n",
      "AT&T Inc. 2.600% Global Notes due December 17, 2029\n",
      "\n",
      "AT&T Inc. 0.800% Global Notes due March 4, 2030\n",
      "\n",
      "AT&T Inc. 3.950% Global Notes due April 30, 2031\n",
      "\n",
      "AT&T Inc. 2.050% Global Notes due May 19, 2032\n",
      "\n",
      "AT&T Inc. 3.550% Global Notes due December 17, 2032\n",
      "\n",
      "AT&T Inc. 5.200% Global Notes due November 18, 2033\n",
      "\n",
      "T 33\n",
      "\n",
      "New York Stock Exchange\n",
      "\n",
      "\n"
     ]
    }
   ],
   "source": [
    "print(unstructured_loaded_documents[6].page_content)"
   ]
  },
  {
   "cell_type": "code",
   "execution_count": 28,
   "metadata": {},
   "outputs": [
    {
     "name": "stdout",
     "output_type": "stream",
     "text": [
      "Help on function partition_pdf in module unstructured.partition.pdf:\n",
      "\n",
      "partition_pdf(filename: 'Optional[str]' = None, file: 'Optional[IO[bytes]]' = None, include_page_breaks: 'bool' = False, strategy: 'str' = 'auto', infer_table_structure: 'bool' = False, ocr_languages: 'Optional[str]' = None, languages: 'Optional[list[str]]' = None, metadata_filename: 'Optional[str]' = None, metadata_last_modified: 'Optional[str]' = None, chunking_strategy: 'Optional[str]' = None, hi_res_model_name: 'Optional[str]' = None, extract_images_in_pdf: 'bool' = False, extract_image_block_types: 'Optional[list[str]]' = None, extract_image_block_output_dir: 'Optional[str]' = None, extract_image_block_to_payload: 'bool' = False, starting_page_number: 'int' = 1, extract_forms: 'bool' = False, form_extraction_skip_tables: 'bool' = True, password: 'Optional[str]' = None, pdfminer_line_margin: 'Optional[float]' = None, pdfminer_char_margin: 'Optional[float]' = None, pdfminer_line_overlap: 'Optional[float]' = None, pdfminer_word_margin: 'Optional[float]' = 0.185, **kwargs: 'Any') -> 'list[Element]'\n",
      "    Parses a pdf document into a list of interpreted elements.\n",
      "        Parameters\n",
      "        ----------\n",
      "        filename\n",
      "            A string defining the target filename path.\n",
      "        file\n",
      "            A file-like object as bytes --> open(filename, \"rb\").\n",
      "        strategy\n",
      "            The strategy to use for partitioning the PDF. Valid strategies are \"hi_res\",\n",
      "            \"ocr_only\", and \"fast\". When using the \"hi_res\" strategy, the function uses\n",
      "            a layout detection model to identify document elements. When using the\n",
      "            \"ocr_only\" strategy, partition_pdf simply extracts the text from the\n",
      "            document using OCR and processes it. If the \"fast\" strategy is used, the text\n",
      "            is extracted directly from the PDF. The default strategy `auto` will determine\n",
      "            when a page can be extracted using `fast` mode, otherwise it will fall back to `hi_res`.\n",
      "        infer_table_structure\n",
      "            Only applicable if `strategy=hi_res`.\n",
      "            If True, any Table elements that are extracted will also have a metadata field\n",
      "            named \"text_as_html\" where the table's text content is rendered into an html string.\n",
      "            I.e., rows and cells are preserved.\n",
      "            Whether True or False, the \"text\" field is always present in any Table element\n",
      "            and is the text content of the table (no structure).\n",
      "        languages\n",
      "            The languages present in the document, for use in partitioning and/or OCR. To use a language\n",
      "            with Tesseract, you'll first need to install the appropriate Tesseract language pack.\n",
      "        metadata_last_modified\n",
      "            The last modified date for the document.\n",
      "        hi_res_model_name\n",
      "            The layout detection model used when partitioning strategy is set to `hi_res`.\n",
      "        extract_images_in_pdf\n",
      "            Only applicable if `strategy=hi_res`.\n",
      "            If True, any detected images will be saved in the path specified by\n",
      "            'extract_image_block_output_dir' or stored as base64 encoded data within metadata fields.\n",
      "            Deprecation Note: This parameter is marked for deprecation. Future versions will use\n",
      "            'extract_image_block_types' for broader extraction capabilities.\n",
      "        extract_image_block_types\n",
      "            Only applicable if `strategy=hi_res`.\n",
      "            Images of the element type(s) specified in this list (e.g., [\"Image\", \"Table\"]) will be\n",
      "            saved in the path specified by 'extract_image_block_output_dir' or stored as base64\n",
      "            encoded data within metadata fields.\n",
      "        extract_image_block_to_payload\n",
      "            Only applicable if `strategy=hi_res`.\n",
      "            If True, images of the element type(s) defined in 'extract_image_block_types' will be\n",
      "            encoded as base64 data and stored in two metadata fields: 'image_base64' and\n",
      "            'image_mime_type'.\n",
      "            This parameter facilitates the inclusion of element data directly within the payload,\n",
      "            especially for web-based applications or APIs.\n",
      "        extract_image_block_output_dir\n",
      "            Only applicable if `strategy=hi_res` and `extract_image_block_to_payload=False`.\n",
      "            The filesystem path for saving images of the element type(s)\n",
      "            specified in 'extract_image_block_types'.\n",
      "        extract_forms\n",
      "            Whether the form extraction logic should be run\n",
      "            (results in adding FormKeysValues elements to output).\n",
      "        form_extraction_skip_tables\n",
      "            Whether the form extraction logic should ignore regions designated as Tables.\n",
      "        pdfminer_line_margin\n",
      "            If two lines are close together they are considered to be part of the same paragraph.\n",
      "            The margin is specified relative to the height of a line.\n",
      "        pdfminer_char_margin\n",
      "            If two characters are closer together than this margin they are considered part of\n",
      "            the same line. The margin is specified relative to the width of the character.\n",
      "        pdfminer_line_overlap\n",
      "            If two characters have more overlap than this they are considered to be on the same line.\n",
      "            The overlap is specified relative to the minimum height of both characters.\n",
      "        pdfminer_word_margin\n",
      "            If two characters on the same line are further apart than this margin then they are\n",
      "            considered to be two separate words, and an intermediate space will be added for\n",
      "            readability. The margin is specified relative to the width of the character.\n",
      "        \n",
      "    chunking_strategy\n",
      "            Strategy used for chunking text into larger or smaller elements.\n",
      "            Defaults to `None` with optional arg of 'basic' or 'by_title'.\n",
      "            Additional Parameters:\n",
      "                    multipage_sections\n",
      "                            If True, sections can span multiple pages. Defaults to True.\n",
      "                    combine_text_under_n_chars\n",
      "                            Combines elements (for example a series of titles) until a section\n",
      "                            reaches a length of n characters. Only applies to 'by_title' strategy.\n",
      "                    new_after_n_chars\n",
      "                            Cuts off chunks once they reach a length of n characters; a soft max.\n",
      "                    max_characters\n",
      "                            Chunks elements text and text_as_html (if present) into chunks\n",
      "                            of length n characters, a hard max.\n",
      "\n"
     ]
    }
   ],
   "source": [
    "help(partition_pdf)"
   ]
  },
  {
   "cell_type": "code",
   "execution_count": 66,
   "metadata": {
    "scrolled": true
   },
   "outputs": [],
   "source": [
    "file_path = r\"F:\\PlayGround\\GEN_AI\\BussinessReportAnalysisAgent\\test_folder\\VGS_2022.pdf\"\n",
    "\n",
    "elements = partition_pdf(\n",
    "    filename=file_path,                  \n",
    "    strategy=\"hi_res\",                                     \n",
    "    # infer_table_structure=True,\n",
    "    # extract_images_in_pdf=True,\n",
    "    # extract_image_block_types=[\"Image\"],\n",
    "    chunking_strategy=\"basic\",\n",
    "    multpage_section=False\n",
    "    )"
   ]
  },
  {
   "cell_type": "code",
   "execution_count": 67,
   "metadata": {},
   "outputs": [
    {
     "data": {
      "text/plain": [
       "35"
      ]
     },
     "execution_count": 67,
     "metadata": {},
     "output_type": "execute_result"
    }
   ],
   "source": [
    "len(elements)"
   ]
  },
  {
   "cell_type": "code",
   "execution_count": 68,
   "metadata": {},
   "outputs": [
    {
     "name": "stdout",
     "output_type": "stream",
     "text": [
      "gw VERY GOOD SECURITY\n",
      "\n",
      "PCI Compliance Checklist Fall 2021\n",
      "\n",
      "PCI Compliance Checklist\n",
      "\n",
      "Fall 2021\n",
      "\n",
      "PCI Compliance Checklist | Very Good Security\n",
      "\n",
      "1\n",
      "\n",
      "eBook\n",
      "\n",
      "Table of Contents\n",
      "\n",
      "Introduction\n",
      "\n",
      "Build and Maintain a Secure Network and Systems\n",
      "\n",
      "1. Protect cardholder data with a firewall\n",
      "\n",
      "2. Change vendor-supplied default passwords and parameters\n",
      "\n",
      "Protect Cardholder Data\n",
      "\n",
      "3. Protect stored cardholder data\n",
      "\n",
      "4. Encrypt transmission of cardholder data\n",
      "\n",
      "Maintain a Vulnerability Management Program\n"
     ]
    }
   ],
   "source": [
    "print(str(elements[0]))"
   ]
  },
  {
   "cell_type": "code",
   "execution_count": 42,
   "metadata": {},
   "outputs": [
    {
     "name": "stdout",
     "output_type": "stream",
     "text": [
      "Regularly Monitor and Test Networks\n",
      "\n",
      "10. Monitor access to network resources and cardholder data\n",
      "\n",
      "11. Regularly test security systems and processes\n",
      "\n",
      "Maintain an Information Security Policy\n",
      "\n",
      "12. Maintain an information security policy for all personnel\n",
      "\n",
      "Request a Demo\n",
      "\n",
      "PCI Compliance Checklist | Very Good Security\n",
      "\n",
      "2\n",
      "\n",
      "eBook\n",
      "\n",
      "gw VERY GOOD SECURITY\n"
     ]
    }
   ],
   "source": [
    "print(str(elements[2]))"
   ]
  },
  {
   "cell_type": "code",
   "execution_count": 18,
   "metadata": {},
   "outputs": [],
   "source": [
    "table_chunk = []\n",
    "\n",
    "for chunk in elements:\n",
    "    if \"TableChunk\" in str(type(chunk)):\n",
    "        table_chunk.append(str(chunk))"
   ]
  },
  {
   "cell_type": "code",
   "execution_count": 21,
   "metadata": {},
   "outputs": [
    {
     "data": {
      "text/plain": [
       "'T&T Inc. 1.600% Global Notes due May 19, 2028 T 28C New York Stock Exchange T&T Inc. 2.350% Global Notes due September 5, 2029 T 29D New York Stock Exchange &T Inc. 4.375% Global Notes due September 14, 2029 T 29B New York Stock Exchange T&T Inc. 2.600% Global Notes due December 17, 2029 \\\\ T29A New York Stock Exchange T&T Inc. 0.800% Global Notes due March 4, 2030 \\\\ T 30B New York Stock Exchange T&T Inc. 3.950% Global Notes due April 30, 2031 \\\\ T31F New York Stock Exchange'"
      ]
     },
     "execution_count": 21,
     "metadata": {},
     "output_type": "execute_result"
    }
   ],
   "source": [
    "table_chunk[2]"
   ]
  },
  {
   "cell_type": "code",
   "execution_count": 72,
   "metadata": {},
   "outputs": [
    {
     "name": "stdout",
     "output_type": "stream",
     "text": [
      "PCI Compliance Checklist   |  Very Good Security\n",
      " 1\n",
      "PCI Compliance \n",
      "Checklist\n",
      "Fall 2021\n"
     ]
    }
   ],
   "source": [
    "print(PyMuPDFLoader(file_path=file_path).load()[0].page_content)"
   ]
  },
  {
   "cell_type": "code",
   "execution_count": 73,
   "metadata": {},
   "outputs": [],
   "source": [
    "new_file_path = r\"F:\\PlayGround\\GEN_AI\\BussinessReportAnalysisAgent\\BusinessReports\\Telstra_2023.pdf\"\n",
    "\n",
    "loader = PyMuPDFLoader(file_path=new_file_path)\n",
    "loaded_docs = loader.load()"
   ]
  },
  {
   "cell_type": "code",
   "execution_count": 83,
   "metadata": {},
   "outputs": [
    {
     "name": "stdout",
     "output_type": "stream",
     "text": [
      "1.\tUnderlying EBITDA excludes guidance adjustments, and in FY23 and prior years also excludes net one-off nbn DA receipts less nbn net C2C.\n",
      "2.\t\u0007Guidance adjustments include material one-offs, such as mergers and acquisitions, disposals, impairments, spectrum, restructuring costs and such other items as determined by the \n",
      "Board and manaement.\n",
      "3.\t\u0007Underlying ROIC defined as Net Operating Profit After Tax (NOPAT) as a percentage of total capital, excluding net one-off nbn receipts and guidance adjustments (as defined above) \n",
      "less tax.\n",
      "FY23 financial\n",
      "performance\n",
      "Total income \n",
      "(excluding finance \n",
      "income)\n",
      "$23.2 billion\n",
      "Earnings before Interest, \n",
      "Tax, Depreciation and \n",
      "Amortisation (EBITDA) $7.9 billion\n",
      "Underlying EBITDA1 on \n",
      "a guidance basis2\n",
      "$8.0 billion\n",
      "Net Profit After Tax \n",
      "(NPAT)\n",
      "$2.1 billion\n",
      "Total FY23 \n",
      "dividends \n",
      "17 cents per \n",
      "share fully \n",
      "franked\n",
      "Earnings \n",
      "per share \n",
      "16.7 cents\n",
      "Underlying \n",
      "Return on \n",
      "Invested \n",
      "Capital \n",
      "(ROIC)3 8.1%\n",
      "A-/A2 credit \n",
      "rating from \n",
      "Moody’s and \n",
      "Standard & \n",
      "Poors\n",
      "$2.0 billion \n",
      "returned to \n",
      "shareholders\n",
      "Operating and financial review \n",
      "Telstra 2023 full year results | C1\n"
     ]
    }
   ],
   "source": [
    "print(loaded_docs[9].page_content)"
   ]
  },
  {
   "cell_type": "code",
   "execution_count": 84,
   "metadata": {},
   "outputs": [
    {
     "name": "stderr",
     "output_type": "stream",
     "text": [
      "`mode='paged'` is deprecated in favor of the 'by_page' chunking strategy. Learn more about chunking here: https://docs.unstructured.io/open-source/core-functionality/chunking\n"
     ]
    }
   ],
   "source": [
    "unstructred_loader = UnstructuredPDFLoader(\n",
    "    file_path=new_file_path,\n",
    "    mode=\"paged\",\n",
    "    strategy=\"hi_res\", \n",
    "    extract_images_in_pdf=True, \n",
    "    extract_image_block_types=[\"Image\", \"Table\"],\n",
    ")\n",
    "\n",
    "unstructred_loaded_docs = unstructred_loader.load()"
   ]
  },
  {
   "cell_type": "code",
   "execution_count": 86,
   "metadata": {},
   "outputs": [
    {
     "name": "stdout",
     "output_type": "stream",
     "text": [
      "Operating and financial review\n",
      "\n",
      "FY23 financial performance\n",
      "\n",
      "Total income (excluding finance income)\n",
      "\n",
      "$23.2 billion\n",
      "\n",
      "FY]\n",
      "\n",
      "Earnings before Interest, Tax, Depreciation and\n",
      "\n",
      "Amortisation (EBITDA) $7.9 billion\n",
      "\n",
      "Underlying EBITDA1 on a guidance basis2\n",
      "\n",
      "FY]\n",
      "\n",
      "$8.0 billion\n",
      "\n",
      "Net Profit After Tax (NPAT)\n",
      "\n",
      "@\n",
      "\n",
      "$2.1 billion\n",
      "\n",
      "2) O\\& Underlying Earnings Total FY23 $2.0 billion Return on per share dividends returned to 16.7 cents 17 cents per shareholders Capital share fully (ROIC)? 8.1% franked A-/A2 credit rating from Moody’s and Standard &\n",
      "\n",
      "Y) Ww\n",
      "\n",
      "Poors\n",
      "\n",
      "1. Underlying EBITDA excludes guidance adjustments, and in FY23 and prior years also excludes net one-off nbn DA receipts less nbn net C2C.\n",
      "\n",
      "2. Guidance adjustments include material one-offs, such as mergers and acquisitions, disposals, impairments, spectrum, restructuring costs and such other items as determined by the Board and manaement.\n",
      "\n",
      "3. Underlying ROIC defined as Net Operating Profit After Tax (NOPAT) as a percentage of total capital, excluding net one-off nbn receipts and guidance adjustments (as defined above) less tax.\n",
      "\n",
      "Telstra 2023 full year results | C1\n",
      "\n",
      "\n"
     ]
    }
   ],
   "source": [
    "print(unstructred_loaded_docs[9].page_content)"
   ]
  },
  {
   "cell_type": "code",
   "execution_count": null,
   "metadata": {},
   "outputs": [],
   "source": []
  },
  {
   "cell_type": "code",
   "execution_count": 3,
   "metadata": {},
   "outputs": [
    {
     "data": {
      "application/vnd.jupyter.widget-view+json": {
       "model_id": "4121a4a11cf24ad48a57e2e30002e610",
       "version_major": 2,
       "version_minor": 0
      },
      "text/plain": [
       "modules.json:   0%|          | 0.00/349 [00:00<?, ?B/s]"
      ]
     },
     "metadata": {},
     "output_type": "display_data"
    },
    {
     "name": "stderr",
     "output_type": "stream",
     "text": [
      "f:\\PlayGround\\GEN_AI\\BussinessReportAnalysisAgent\\.venv\\Lib\\site-packages\\huggingface_hub\\file_download.py:142: UserWarning: `huggingface_hub` cache-system uses symlinks by default to efficiently store duplicated files but your machine does not support them in C:\\Users\\Dikshant\\.cache\\huggingface\\hub\\models--sentence-transformers--all-MiniLM-L6-v2. Caching files will still work but in a degraded version that might require more space on your disk. This warning can be disabled by setting the `HF_HUB_DISABLE_SYMLINKS_WARNING` environment variable. For more details, see https://huggingface.co/docs/huggingface_hub/how-to-cache#limitations.\n",
      "To support symlinks on Windows, you either need to activate Developer Mode or to run Python as an administrator. In order to activate developer mode, see this article: https://docs.microsoft.com/en-us/windows/apps/get-started/enable-your-device-for-development\n",
      "  warnings.warn(message)\n"
     ]
    },
    {
     "data": {
      "application/vnd.jupyter.widget-view+json": {
       "model_id": "6f92ef19f9ee4550a53dc67886c10f0a",
       "version_major": 2,
       "version_minor": 0
      },
      "text/plain": [
       "config_sentence_transformers.json:   0%|          | 0.00/116 [00:00<?, ?B/s]"
      ]
     },
     "metadata": {},
     "output_type": "display_data"
    },
    {
     "data": {
      "application/vnd.jupyter.widget-view+json": {
       "model_id": "9f593e5742d04ed7886737f3eb93ef6a",
       "version_major": 2,
       "version_minor": 0
      },
      "text/plain": [
       "README.md:   0%|          | 0.00/10.5k [00:00<?, ?B/s]"
      ]
     },
     "metadata": {},
     "output_type": "display_data"
    },
    {
     "data": {
      "application/vnd.jupyter.widget-view+json": {
       "model_id": "7dc76ba3af794a96a9985f90302b4f49",
       "version_major": 2,
       "version_minor": 0
      },
      "text/plain": [
       "sentence_bert_config.json:   0%|          | 0.00/53.0 [00:00<?, ?B/s]"
      ]
     },
     "metadata": {},
     "output_type": "display_data"
    },
    {
     "data": {
      "application/vnd.jupyter.widget-view+json": {
       "model_id": "5b72b9b731c54f3c901a9b07734e744e",
       "version_major": 2,
       "version_minor": 0
      },
      "text/plain": [
       "config.json:   0%|          | 0.00/612 [00:00<?, ?B/s]"
      ]
     },
     "metadata": {},
     "output_type": "display_data"
    },
    {
     "data": {
      "application/vnd.jupyter.widget-view+json": {
       "model_id": "741224886182450f83c34cf301f45f8e",
       "version_major": 2,
       "version_minor": 0
      },
      "text/plain": [
       "model.safetensors:   0%|          | 0.00/90.9M [00:00<?, ?B/s]"
      ]
     },
     "metadata": {},
     "output_type": "display_data"
    },
    {
     "data": {
      "application/vnd.jupyter.widget-view+json": {
       "model_id": "fbbc3c7089114b418594ff75ee332e4e",
       "version_major": 2,
       "version_minor": 0
      },
      "text/plain": [
       "tokenizer_config.json:   0%|          | 0.00/350 [00:00<?, ?B/s]"
      ]
     },
     "metadata": {},
     "output_type": "display_data"
    },
    {
     "data": {
      "application/vnd.jupyter.widget-view+json": {
       "model_id": "ee4c17dd1b344edcac722631a61cf1b4",
       "version_major": 2,
       "version_minor": 0
      },
      "text/plain": [
       "vocab.txt:   0%|          | 0.00/232k [00:00<?, ?B/s]"
      ]
     },
     "metadata": {},
     "output_type": "display_data"
    },
    {
     "data": {
      "application/vnd.jupyter.widget-view+json": {
       "model_id": "7423c5df7af743359aba89d09771aa51",
       "version_major": 2,
       "version_minor": 0
      },
      "text/plain": [
       "tokenizer.json:   0%|          | 0.00/466k [00:00<?, ?B/s]"
      ]
     },
     "metadata": {},
     "output_type": "display_data"
    },
    {
     "data": {
      "application/vnd.jupyter.widget-view+json": {
       "model_id": "03dc14e9e9584fb3891dc861ec790f78",
       "version_major": 2,
       "version_minor": 0
      },
      "text/plain": [
       "special_tokens_map.json:   0%|          | 0.00/112 [00:00<?, ?B/s]"
      ]
     },
     "metadata": {},
     "output_type": "display_data"
    },
    {
     "data": {
      "application/vnd.jupyter.widget-view+json": {
       "model_id": "5287eaa75dcf4cabb90ab5f83c8b3f73",
       "version_major": 2,
       "version_minor": 0
      },
      "text/plain": [
       "config.json:   0%|          | 0.00/190 [00:00<?, ?B/s]"
      ]
     },
     "metadata": {},
     "output_type": "display_data"
    },
    {
     "name": "stdout",
     "output_type": "stream",
     "text": [
      "[[ 6.76569417e-02  6.34959564e-02  4.87131029e-02  7.93048963e-02\n",
      "   3.74480709e-02  2.65277619e-03  3.93749177e-02 -7.09846616e-03\n",
      "   5.93614057e-02  3.15370224e-02  6.00980818e-02 -5.29052354e-02\n",
      "   4.06067409e-02 -2.59308442e-02  2.98428535e-02  1.12691487e-03\n",
      "   7.35148937e-02 -5.03818579e-02 -1.22386597e-01  2.37028375e-02\n",
      "   2.97265276e-02  4.24768776e-02  2.56337691e-02  1.99514348e-03\n",
      "  -5.69190495e-02 -2.71597989e-02 -3.29035297e-02  6.60248995e-02\n",
      "   1.19007193e-01 -4.58791330e-02 -7.26214200e-02 -3.25840116e-02\n",
      "   5.23414016e-02  4.50553410e-02  8.25305004e-03  3.67024243e-02\n",
      "  -1.39415674e-02  6.53918684e-02 -2.64272075e-02  2.06393175e-04\n",
      "  -1.36643527e-02 -3.62811014e-02 -1.95043907e-02 -2.89738420e-02\n",
      "   3.94270532e-02 -8.84090662e-02  2.62423488e-03  1.36713171e-02\n",
      "   4.83062454e-02 -3.11566181e-02 -1.17329188e-01 -5.11690676e-02\n",
      "  -8.85287672e-02 -2.18963325e-02  1.42986281e-02  4.44167778e-02\n",
      "  -1.34816021e-02  7.43392631e-02  2.66382936e-02 -1.98762678e-02\n",
      "   1.79191213e-02 -1.06052039e-02 -9.04262811e-02  2.13268865e-02\n",
      "   1.41204834e-01 -6.47176104e-03 -1.40378485e-03 -1.53609365e-02\n",
      "  -8.73571262e-02  7.22174048e-02  2.01402996e-02  4.25587818e-02\n",
      "  -3.49013768e-02  3.19474493e-04 -8.02971125e-02 -3.27472091e-02\n",
      "   2.85268556e-02 -5.13657555e-02  1.09389186e-01  8.19327682e-02\n",
      "  -9.84040275e-02 -9.34096426e-02 -1.51291797e-02  4.51249368e-02\n",
      "   4.94172126e-02 -2.51868013e-02  1.57077573e-02 -1.29290745e-01\n",
      "   5.31888986e-03  4.02342249e-03 -2.34571211e-02 -6.72982708e-02\n",
      "   2.92280186e-02 -2.60845311e-02  1.30625125e-02 -3.11663151e-02\n",
      "  -4.82713841e-02 -5.58859296e-02 -3.87505293e-02  1.20010898e-01\n",
      "  -1.03924535e-02  4.89705503e-02  5.53537235e-02  4.49358188e-02\n",
      "  -4.00977908e-03 -1.02959782e-01 -2.92968899e-02 -5.83403148e-02\n",
      "   2.70472821e-02 -2.20169015e-02 -7.22240880e-02 -4.13869657e-02\n",
      "  -1.93298385e-02  2.73327855e-03  2.77042243e-04 -9.67589095e-02\n",
      "  -1.00574717e-01 -1.41922859e-02 -8.07891712e-02  4.53925133e-02\n",
      "   2.45041493e-02  5.97614087e-02 -7.38184974e-02  1.19844154e-02\n",
      "  -6.63403794e-02 -7.69045353e-02  3.85157876e-02 -5.59362366e-33\n",
      "   2.80014202e-02 -5.60784973e-02 -4.86601442e-02  2.15568934e-02\n",
      "   6.01981133e-02 -4.81402166e-02 -3.50247063e-02  1.93313845e-02\n",
      "  -1.75152197e-02 -3.89210507e-02 -3.81067279e-03 -1.70287751e-02\n",
      "   2.82099918e-02  1.28290914e-02  4.71600927e-02  6.21030666e-02\n",
      "  -6.43588975e-02  1.29285574e-01 -1.31231202e-02  5.23069538e-02\n",
      "  -3.73681039e-02  2.89094578e-02 -1.68980882e-02 -2.37330496e-02\n",
      "  -3.33491862e-02 -5.16762994e-02  1.55356592e-02  2.08802894e-02\n",
      "  -1.25371739e-02  4.59578820e-02  3.72719876e-02  2.80566458e-02\n",
      "  -5.90005219e-02 -1.16988299e-02  4.92182858e-02  4.70329039e-02\n",
      "   7.35487789e-02 -3.70530263e-02  3.98460124e-03  1.06411763e-02\n",
      "  -1.61481134e-04 -5.27165532e-02  2.75927819e-02 -3.92921120e-02\n",
      "   8.44717473e-02  4.86861020e-02 -4.85870475e-03  1.79948695e-02\n",
      "  -4.28569205e-02  1.23375608e-02  6.39952580e-03  4.04823311e-02\n",
      "   1.48886545e-02 -1.53941317e-02  7.62948841e-02  2.37044189e-02\n",
      "   4.45237234e-02  5.08196689e-02 -2.31253076e-03 -1.88736822e-02\n",
      "  -1.23335784e-02  4.66001630e-02 -5.63437901e-02  6.29928112e-02\n",
      "  -3.15535143e-02  3.24912518e-02  2.34673563e-02 -6.55438229e-02\n",
      "   2.01709159e-02  2.57082619e-02 -1.23869097e-02 -8.36491212e-03\n",
      "  -6.64377958e-02  9.43073481e-02 -3.57093252e-02 -3.42482999e-02\n",
      "  -6.66356925e-03 -8.01525731e-03 -3.09711229e-02  4.33012024e-02\n",
      "  -8.21396895e-03 -1.50795043e-01  3.07691675e-02  4.00719717e-02\n",
      "  -3.79293188e-02  1.93217210e-03  4.00530994e-02 -8.77075195e-02\n",
      "  -3.68490815e-02  8.57964996e-03 -3.19251940e-02 -1.25257680e-02\n",
      "   7.35540017e-02  1.34735845e-03  2.05918569e-02  2.71098366e-33\n",
      "  -5.18576466e-02  5.78361340e-02 -9.18985531e-02  3.94421555e-02\n",
      "   1.05576560e-01 -1.96911916e-02  6.18402250e-02 -7.63465241e-02\n",
      "   2.40880530e-02  9.40049216e-02 -1.16535410e-01  3.71198654e-02\n",
      "   5.22425696e-02 -3.95857869e-03  5.72214834e-02  5.32852393e-03\n",
      "   1.24016851e-01  1.39022572e-02 -1.10250209e-02  3.56053077e-02\n",
      "  -3.30755040e-02  8.16574320e-02 -1.52004082e-02  6.05585761e-02\n",
      "  -6.01397604e-02  3.26102227e-02 -3.48296203e-02 -1.69881806e-02\n",
      "  -9.74907205e-02 -2.71484610e-02  1.74711633e-03 -7.68982619e-02\n",
      "  -4.31858189e-02 -1.89984385e-02 -2.91661024e-02  5.77488132e-02\n",
      "   2.41821315e-02 -1.16902422e-02 -6.21435121e-02  2.84351185e-02\n",
      "  -2.37509070e-04 -2.51783691e-02  4.39638458e-03  8.12839717e-02\n",
      "   3.64183746e-02 -6.04006127e-02 -3.65517214e-02 -7.93748572e-02\n",
      "  -5.08519588e-03  6.69698641e-02 -1.17784359e-01  3.23743336e-02\n",
      "  -4.71252836e-02 -1.34459762e-02 -9.48444828e-02  8.24952405e-03\n",
      "  -1.06748492e-02 -6.81881756e-02  1.11815624e-03  2.48020142e-02\n",
      "  -6.35889247e-02  2.84493398e-02 -2.61303876e-02  8.58111158e-02\n",
      "   1.14682265e-01 -5.35345823e-02 -5.63588552e-02  4.26009446e-02\n",
      "   1.09454580e-02  2.09579393e-02  1.00131087e-01  3.26050930e-02\n",
      "  -1.84208810e-01 -3.93208489e-02 -6.91454858e-02 -6.38104975e-02\n",
      "  -6.56386092e-02 -6.41250331e-03 -4.79612239e-02 -7.68133402e-02\n",
      "   2.95384806e-02 -2.29948126e-02  4.17036861e-02 -2.50048023e-02\n",
      "  -4.54506325e-03 -4.17136289e-02 -1.32289538e-02 -6.38357475e-02\n",
      "  -2.46470957e-03 -1.37337623e-02  1.68976486e-02 -6.30397946e-02\n",
      "   8.98880661e-02  4.18171361e-02 -1.85687486e-02 -1.80442203e-08\n",
      "  -1.67998113e-02 -3.21577750e-02  6.30383641e-02 -4.13091779e-02\n",
      "   4.44818512e-02  2.02465826e-03  6.29592463e-02 -5.17372787e-03\n",
      "  -1.00444360e-02 -3.05640046e-02  3.52673084e-02  5.58581278e-02\n",
      "  -4.67124581e-02  3.45103405e-02  3.29577923e-02  4.30114418e-02\n",
      "   2.94360984e-02 -3.03164925e-02 -1.71107780e-02  7.37484768e-02\n",
      "  -5.47910184e-02  2.77515333e-02  6.20166445e-03  1.58800371e-02\n",
      "   3.42978872e-02 -5.15752332e-03  2.35079918e-02  7.53135830e-02\n",
      "   1.92843098e-02  3.36197019e-02  5.09103350e-02  1.52497098e-01\n",
      "   1.64207704e-02  2.70528309e-02  3.75162177e-02  2.18552630e-02\n",
      "   5.66333644e-02 -3.95746306e-02  7.12313578e-02 -5.41377515e-02\n",
      "   1.03766785e-03  2.11852826e-02 -3.56309339e-02  1.09016888e-01\n",
      "   2.76535540e-03  3.13997492e-02  1.38421520e-03 -3.45738530e-02\n",
      "  -4.59278002e-02  2.88083479e-02  7.16900127e-03  4.84684594e-02\n",
      "   2.61018667e-02 -9.44069773e-03  2.82169618e-02  3.48724686e-02\n",
      "   3.69098783e-02 -8.58951639e-03 -3.53205428e-02 -2.47857179e-02\n",
      "  -1.91921089e-02  3.80707346e-02  5.99653088e-02 -4.22287583e-02]\n",
      " [ 8.64386186e-02  1.02762640e-01  5.39459009e-03  2.04444467e-03\n",
      "  -9.96333174e-03  2.53855307e-02  4.92875278e-02 -3.06265336e-02\n",
      "   6.87254742e-02  1.01365978e-02  7.75397792e-02 -9.00807604e-02\n",
      "   6.10617967e-03 -5.69898561e-02  1.41714737e-02  2.80491896e-02\n",
      "  -8.68465006e-02  7.64399022e-02 -1.03491336e-01 -6.77438080e-02\n",
      "   6.99946731e-02  8.44251215e-02 -7.24912016e-03  1.04770251e-02\n",
      "   1.34020718e-02  6.77577108e-02 -9.42086354e-02 -3.71690020e-02\n",
      "   5.22617474e-02 -3.10853347e-02 -9.63406861e-02  1.57716777e-02\n",
      "   2.57866438e-02  7.85245225e-02  7.89949074e-02  1.91516019e-02\n",
      "   1.64356697e-02  3.10087577e-03  3.81311364e-02  2.37090718e-02\n",
      "   1.05389925e-02 -4.40644659e-02  4.41738851e-02 -2.58727930e-02\n",
      "   6.15378693e-02 -4.05427888e-02 -8.64139870e-02  3.19722369e-02\n",
      "  -8.90655385e-04 -2.44437438e-02 -9.19720978e-02  2.33939607e-02\n",
      "  -8.30293372e-02  4.41510752e-02 -2.49693133e-02  6.23020530e-02\n",
      "  -1.30354939e-03  7.51395598e-02  2.46385187e-02 -6.47244602e-02\n",
      "  -1.17727757e-01  3.83392200e-02 -9.11767483e-02  6.35445938e-02\n",
      "   7.62739927e-02 -8.80241320e-02  9.54558980e-03 -4.69717681e-02\n",
      "  -8.41740519e-02  3.88824008e-02 -1.14393547e-01  6.28858944e-03\n",
      "  -3.49361785e-02  2.39750128e-02 -3.31316851e-02 -1.57243740e-02\n",
      "  -3.78955640e-02 -8.81250110e-03  7.06119165e-02  3.28066610e-02\n",
      "   2.03670748e-03 -1.12279005e-01  6.79721404e-03  1.22765806e-02\n",
      "   3.35303992e-02 -1.36200720e-02 -2.25490164e-02 -2.25228965e-02\n",
      "  -2.03194916e-02  5.04297465e-02 -7.48652741e-02 -8.22822452e-02\n",
      "   7.65962675e-02  4.93391976e-02 -3.75553370e-02  1.44634498e-02\n",
      "  -5.72458208e-02 -1.79954544e-02  1.09697953e-01  1.19462796e-01\n",
      "   8.09218735e-04  6.17057346e-02  3.26322243e-02 -1.30780101e-01\n",
      "  -1.48636624e-01 -6.16232529e-02  4.33886014e-02  2.67129280e-02\n",
      "   1.39785958e-02 -3.94002311e-02 -2.52711661e-02  3.87742114e-03\n",
      "   3.58664766e-02 -6.15420267e-02  3.76660526e-02  2.67565195e-02\n",
      "  -3.82659324e-02 -3.54793221e-02 -2.39227433e-02  8.67977366e-02\n",
      "  -1.84062775e-02  7.71039501e-02  1.39859400e-03  7.00383186e-02\n",
      "  -4.77877632e-02 -7.89819732e-02  5.10814711e-02 -2.99868297e-33\n",
      "  -3.91646400e-02 -2.56212428e-03  1.65210702e-02  9.48939100e-03\n",
      "  -5.66219315e-02  6.57783151e-02 -4.77002710e-02  1.11661917e-02\n",
      "  -5.73558509e-02 -9.16259550e-03 -2.17521358e-02 -5.59531748e-02\n",
      "  -1.11423098e-02  9.32793096e-02  1.66765172e-02 -1.36723677e-02\n",
      "   4.34388407e-02  1.87244453e-03  7.29948329e-03  5.16332202e-02\n",
      "   4.80608270e-02  1.35341421e-01 -1.71738882e-02 -1.29698580e-02\n",
      "  -7.50110149e-02  2.61107851e-02  2.69802064e-02  7.83080002e-04\n",
      "  -4.87270579e-02  1.17842667e-02 -4.59580608e-02 -4.83213142e-02\n",
      "  -1.95671171e-02  1.93889644e-02  1.98807288e-02  1.67432316e-02\n",
      "   9.87801328e-02 -2.74087656e-02  2.34809089e-02  3.70230130e-03\n",
      "  -6.14515133e-02 -1.21230143e-03 -9.50473547e-03  9.25153401e-03\n",
      "   2.38443948e-02  8.61231983e-02  2.26789732e-02  5.45134302e-04\n",
      "   3.47129293e-02  6.25465577e-03 -6.92776730e-03  3.92400324e-02\n",
      "   1.15674883e-02  3.26280147e-02  6.22155555e-02  2.76114438e-02\n",
      "   1.86883416e-02  3.55806202e-02  4.11796197e-02  1.54782515e-02\n",
      "   4.22691517e-02  3.82248424e-02  1.00313174e-02 -2.83245966e-02\n",
      "   4.47052568e-02 -4.10458855e-02 -4.50547598e-03 -5.44734262e-02\n",
      "   2.62320656e-02  1.79862622e-02 -1.23118743e-01 -4.66952100e-02\n",
      "  -1.35913156e-02  6.46710768e-02  3.57349613e-03 -1.22233965e-02\n",
      "  -1.79382227e-02 -2.55501978e-02  2.37224102e-02  4.08668909e-03\n",
      "  -6.51476234e-02  4.43651415e-02  4.68596071e-02 -3.25175226e-02\n",
      "   4.02265880e-03 -3.97606753e-03  1.11939432e-02 -9.95597765e-02\n",
      "   3.33168171e-02  8.01060647e-02  9.42692012e-02 -6.38294369e-02\n",
      "   3.23151648e-02 -5.13553210e-02 -7.49873789e-03  5.30048035e-34\n",
      "  -4.13194820e-02  9.49646905e-02 -1.06401421e-01  4.96590547e-02\n",
      "  -3.41913216e-02 -3.16745602e-02 -1.71556138e-02  1.70102133e-03\n",
      "   5.79757802e-02 -1.21775281e-03 -1.68536231e-02 -5.16912304e-02\n",
      "   5.52999042e-02 -3.42647545e-02  3.08179427e-02 -3.10480632e-02\n",
      "   9.27532539e-02  3.72663774e-02 -2.37398259e-02  4.45893556e-02\n",
      "   1.46153728e-02  1.16239399e-01 -5.00112772e-02  3.88716348e-02\n",
      "   4.24741907e-03  2.56976653e-02  3.27243507e-02  4.29907516e-02\n",
      "  -1.36144720e-02  2.56121922e-02  1.06262350e-02 -8.46863911e-02\n",
      "  -9.52982306e-02  1.08399853e-01 -7.51600116e-02 -1.37773305e-02\n",
      "   6.37338385e-02 -4.49670106e-03 -3.25321406e-02  6.23613931e-02\n",
      "   3.48053165e-02 -3.54922414e-02 -2.00222488e-02  3.66608202e-02\n",
      "  -2.48837043e-02  1.01818396e-02 -7.01233074e-02 -4.31951135e-02\n",
      "   2.95333043e-02 -2.94897152e-04 -3.45386937e-02  1.46676069e-02\n",
      "  -9.83969569e-02 -4.70487997e-02 -8.85497779e-03 -8.89913887e-02\n",
      "   3.50996107e-02 -1.29601985e-01 -4.98866327e-02 -6.12047128e-02\n",
      "  -5.97797856e-02  9.46318451e-03  4.91217524e-02 -7.75026679e-02\n",
      "   8.09727535e-02 -4.79257703e-02  2.34378478e-03  7.57031292e-02\n",
      "  -2.40175501e-02 -1.52546102e-02  4.86738607e-02 -3.85968462e-02\n",
      "  -7.04831481e-02 -1.20348325e-02 -3.88790555e-02 -7.76017085e-02\n",
      "  -1.07243825e-02  1.04188006e-02 -2.13754009e-02 -9.17386487e-02\n",
      "  -1.11344792e-02 -2.96066254e-02  2.46458128e-02  4.65710741e-03\n",
      "  -1.63449664e-02 -3.95219587e-02  7.73373842e-02 -2.84732878e-02\n",
      "  -3.69940023e-03  8.27665329e-02 -1.10409427e-02  3.13983113e-02\n",
      "   5.35094514e-02  5.75145595e-02 -3.17622237e-02 -1.52911266e-08\n",
      "  -7.99661279e-02 -4.76796851e-02 -8.59788880e-02  5.69616966e-02\n",
      "  -4.08866741e-02  2.23832317e-02 -4.64447960e-03 -3.80130671e-02\n",
      "  -3.10671069e-02 -1.07278088e-02  1.97698511e-02  7.77003681e-03\n",
      "  -6.09470485e-03 -3.86375748e-02  2.80271824e-02  6.78137615e-02\n",
      "  -2.35351883e-02  3.21747027e-02  8.02536681e-03 -2.39107441e-02\n",
      "  -1.21995620e-03  3.14598717e-02 -5.24924137e-02 -8.06814060e-03\n",
      "   3.14776623e-03  5.11496365e-02 -4.44104485e-02  6.36013523e-02\n",
      "   3.85084078e-02  3.30433398e-02 -4.18728171e-03  4.95592803e-02\n",
      "  -5.69605418e-02 -6.49710884e-03 -2.49792952e-02 -1.60866864e-02\n",
      "   6.62289709e-02 -2.06310973e-02  1.08045734e-01  1.68547146e-02\n",
      "   1.43812140e-02 -1.32127302e-02 -1.29387408e-01  6.95216507e-02\n",
      "  -5.55772707e-02 -6.75413162e-02 -5.45820827e-03 -6.13595359e-03\n",
      "   3.90841104e-02 -6.28779158e-02  3.74063365e-02 -1.16570946e-02\n",
      "   1.29150003e-02 -5.52495457e-02  5.16075641e-02 -4.30842442e-03\n",
      "   5.80247715e-02  1.86945219e-02  2.27810405e-02  3.21665518e-02\n",
      "   5.37978746e-02  7.02849030e-02  7.49312192e-02 -8.41775090e-02]]\n"
     ]
    }
   ],
   "source": [
    "from sentence_transformers import SentenceTransformer\n",
    "sentences = [\"This is an example sentence\", \"Each sentence is converted\"]\n",
    "\n",
    "model = SentenceTransformer('sentence-transformers/all-MiniLM-L6-v2')\n",
    "embeddings = model.encode(sentences)\n",
    "print(embeddings)"
   ]
  },
  {
   "cell_type": "code",
   "execution_count": 4,
   "metadata": {},
   "outputs": [
    {
     "data": {
      "text/plain": [
       "256"
      ]
     },
     "execution_count": 4,
     "metadata": {},
     "output_type": "execute_result"
    }
   ],
   "source": [
    "model.max_seq_length"
   ]
  },
  {
   "cell_type": "code",
   "execution_count": null,
   "metadata": {},
   "outputs": [],
   "source": []
  },
  {
   "cell_type": "code",
   "execution_count": null,
   "metadata": {},
   "outputs": [],
   "source": []
  },
  {
   "cell_type": "code",
   "execution_count": null,
   "metadata": {},
   "outputs": [],
   "source": []
  }
 ],
 "metadata": {
  "kernelspec": {
   "display_name": ".venv",
   "language": "python",
   "name": "python3"
  },
  "language_info": {
   "codemirror_mode": {
    "name": "ipython",
    "version": 3
   },
   "file_extension": ".py",
   "mimetype": "text/x-python",
   "name": "python",
   "nbconvert_exporter": "python",
   "pygments_lexer": "ipython3",
   "version": "3.11.4"
  }
 },
 "nbformat": 4,
 "nbformat_minor": 4
}
